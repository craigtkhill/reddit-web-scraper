{
 "cells": [
  {
   "cell_type": "code",
   "execution_count": 1,
   "id": "d777f9eb",
   "metadata": {},
   "outputs": [],
   "source": [
    "import requests\n",
    "import requests.auth\n",
    "import json\n",
    "import numpy as np\n",
    "from scipy import stats\n",
    "import seaborn as sns"
   ]
  },
  {
   "cell_type": "markdown",
   "id": "93b98941",
   "metadata": {},
   "source": [
    "## Read in ID, API key, Username and Password from separate files"
   ]
  },
  {
   "cell_type": "code",
   "execution_count": 2,
   "id": "cc5fff3e",
   "metadata": {},
   "outputs": [],
   "source": [
    "with open('client_id.txt', 'r') as CLIENT_ID: CLIENT_ID = CLIENT_ID.read()\n",
    "with open('secret_key.txt', 'r') as SECRET_KEY: SECRET_KEY = SECRET_KEY.read() \n",
    "with open('password.txt', 'r') as PASSWORD: PASSWORD = PASSWORD.read() \n",
    "with open('username.txt', 'r') as USERNAME: USERNAME = USERNAME.read()"
   ]
  },
  {
   "cell_type": "markdown",
   "id": "c85e0283",
   "metadata": {},
   "source": [
    "## Get the Authentication Information"
   ]
  },
  {
   "cell_type": "code",
   "execution_count": 3,
   "id": "eab3c2c4",
   "metadata": {},
   "outputs": [],
   "source": [
    "client_auth = requests.auth.HTTPBasicAuth(CLIENT_ID, SECRET_KEY)\n",
    "post_data = {'grant_type': 'password', 'username': USERNAME, 'password': PASSWORD}\n",
    "headers = {\n",
    "    'User-Agent': \"AlcoholismAPI/0.0.1\"\n",
    "}"
   ]
  },
  {
   "cell_type": "markdown",
   "id": "7c40ef8b",
   "metadata": {},
   "source": [
    "## Get Token Access Id"
   ]
  },
  {
   "cell_type": "code",
   "execution_count": 4,
   "id": "9b59bcf3",
   "metadata": {},
   "outputs": [],
   "source": [
    "TOKEN_ACCESS_ENDPOINT = 'https://www.reddit.com/api/v1/access_token'\n",
    "response = requests.post(TOKEN_ACCESS_ENDPOINT, data=post_data, headers=headers, auth=client_auth)\n",
    "if response.status_code == 200:\n",
    "    token_id = response.json()['access_token']"
   ]
  },
  {
   "cell_type": "markdown",
   "id": "bb432e35",
   "metadata": {},
   "source": [
    "## Use Reddit's Rest API to search for the 10 lastest Alcoholism subreddit posts"
   ]
  },
  {
   "cell_type": "code",
   "execution_count": 5,
   "id": "ef3b2451",
   "metadata": {},
   "outputs": [],
   "source": [
    "OAUTH_ENDPOINT = 'https://oauth.reddit.com'\n",
    "params_get = {\n",
    "    'limit': 15,\n",
    "}\n",
    "headers_get = {\n",
    "    'User-Agent': \"AlcoholismAPI/0.0.1\",\n",
    "    'Authorization': 'Bearer ' + token_id\n",
    "}\n",
    "response2 = requests.get(OAUTH_ENDPOINT + '/r/Alcoholism/new/', headers=headers_get, params=params_get)"
   ]
  },
  {
   "cell_type": "markdown",
   "id": "a1434834",
   "metadata": {},
   "source": [
    "## Convert data to JSON format"
   ]
  },
  {
   "cell_type": "code",
   "execution_count": 6,
   "id": "22d85e8b",
   "metadata": {},
   "outputs": [],
   "source": [
    "data = json.dumps(response2.json())\n",
    "data = json.loads(data)"
   ]
  },
  {
   "cell_type": "markdown",
   "id": "bad2726f",
   "metadata": {},
   "source": [
    "## Search each post for comments and add to the dataset"
   ]
  },
  {
   "cell_type": "code",
   "execution_count": 7,
   "id": "1c48e4bb",
   "metadata": {},
   "outputs": [],
   "source": [
    "comment_endpoints = [_['data']['permalink'] for _ in data['data']['children']]\n",
    "list_of_posts_comments = []\n",
    "for endpoint in comment_endpoints:\n",
    "    comments = requests.get(OAUTH_ENDPOINT + endpoint, headers=headers_get, params=params_get)\n",
    "    try:\n",
    "        list_of_posts_comments.append(comments.json()[0]['data']['children'][0]['data']['selftext'])\n",
    "        list_of_posts_comments.extend(_['data']['body'] for _ in comments.json()[1]['data']['children'])\n",
    "    except Exception:\n",
    "        continue"
   ]
  },
  {
   "cell_type": "markdown",
   "id": "7806871d",
   "metadata": {},
   "source": [
    "## Remove items empty items and with over comments with over 1000 characters"
   ]
  },
  {
   "cell_type": "code",
   "execution_count": 8,
   "id": "3d50478c",
   "metadata": {},
   "outputs": [
    {
     "name": "stdout",
     "output_type": "stream",
     "text": [
      "79 <- Number of posts and comments before cleaning\n",
      "75 <- after removing empty posts and comments\n",
      "66 <- after removing posts and comments longer than 1000 characters\n"
     ]
    }
   ],
   "source": [
    "print(len(list_of_posts_comments), '<- Number of posts and comments before cleaning')\n",
    "list_of_posts_comments = [i for i in list_of_posts_comments if len(i) > 0]\n",
    "print(len(list_of_posts_comments), '<- after removing empty posts and comments')\n",
    "list_of_posts_comments = [i for i in list_of_posts_comments if len(i) < 1000]\n",
    "print(len(list_of_posts_comments), '<- after removing posts and comments longer than 1000 characters')"
   ]
  },
  {
   "cell_type": "markdown",
   "id": "38029b3b",
   "metadata": {},
   "source": [
    "## Write the data to a markdown file"
   ]
  },
  {
   "cell_type": "code",
   "execution_count": 9,
   "id": "236add0a",
   "metadata": {},
   "outputs": [],
   "source": [
    "with open(\"dataset.md\", 'w', encoding='utf-8') as w:\n",
    "    for counter, post in enumerate(list_of_posts_comments, start=1):\n",
    "        w.write(f\"\\n# Post {counter}\\n\")\n",
    "        w.write(post)"
   ]
  },
  {
   "cell_type": "code",
   "execution_count": 10,
   "id": "cf2448eb",
   "metadata": {},
   "outputs": [],
   "source": [
    "num = [len(post) for post in list_of_posts_comments]"
   ]
  },
  {
   "cell_type": "code",
   "execution_count": 11,
   "id": "b1fe0101",
   "metadata": {},
   "outputs": [
    {
     "data": {
      "text/plain": [
       "DescribeResult(nobs=66, minmax=(17, 912), mean=322.5, variance=71576.65384615384, skewness=0.6319320171007834, kurtosis=-0.8501250969735752)"
      ]
     },
     "execution_count": 11,
     "metadata": {},
     "output_type": "execute_result"
    }
   ],
   "source": [
    "stats.describe(num)"
   ]
  },
  {
   "cell_type": "markdown",
   "id": "fa89ab36",
   "metadata": {},
   "source": [
    "## Data\n",
    "* Results in a dataset of 46 items ranging from 12 to 966 characters.\n",
    "* Average length of each item is 357 characters"
   ]
  },
  {
   "cell_type": "code",
   "execution_count": 12,
   "id": "b3700f5c",
   "metadata": {},
   "outputs": [
    {
     "data": {
      "text/plain": [
       "<AxesSubplot:ylabel='Count'>"
      ]
     },
     "execution_count": 12,
     "metadata": {},
     "output_type": "execute_result"
    },
    {
     "data": {
      "image/png": "[encoded data removed]",
      "text/plain": [
       "<Figure size 432x288 with 1 Axes>"
      ]
     },
     "metadata": {},
     "output_type": "display_data"
    }
   ],
   "source": [
    "sns.set_style('whitegrid')\n",
    "sns.histplot(num)"
   ]
  }
 ],
 "metadata": {
  "kernelspec": {
   "display_name": "Python 3 (ipykernel)",
   "language": "python",
   "name": "python3"
  },
  "language_info": {
   "codemirror_mode": {
    "name": "ipython",
    "version": 3
   },
   "file_extension": ".py",
   "mimetype": "text/x-python",
   "name": "python",
   "nbconvert_exporter": "python",
   "pygments_lexer": "ipython3",
   "version": "3.8.5"
  }
 },
 "nbformat": 4,
 "nbformat_minor": 5
}
